{
 "cells": [
  {
   "cell_type": "markdown",
   "metadata": {},
   "source": [
    "# 2-1.3 Intro Python\n",
    "## Sequence: String\n",
    "- Accessing String Character with index\n",
    "- Accessing sub-strings with index slicing\n",
    "- **Iterating through Characters of a String**\n",
    "- More String Methods\n",
    "\n",
    "----- \n",
    "\n",
    "><font size=\"5\" color=\"#00A0B2\"  face=\"verdana\"> <B>Student will be able to</B></font>  \n",
    "- Work with String Characters\n",
    "- Slice strings into substrings\n",
    "- **Iterate through String Characters**\n",
    "- Use String Methods"
   ]
  },
  {
   "cell_type": "markdown",
   "metadata": {},
   "source": [
    "# &nbsp;\n",
    "<font size=\"6\" color=\"#00A0B2\"  face=\"verdana\"> <B>Concepts</B></font>\n",
    "## Iterate a String: 1 character at a time\n",
    "[![view video](https://iajupyterprodblobs.blob.core.windows.net/imagecontainer/common/play_video.png)]( http://edxinteractivepage.blob.core.windows.net/edxpages/f7cff1a7-5601-48a1-95a6-fd1fdfabd20e.html?details=[{\"src\":\"http://jupyternootbookwams.streaming.mediaservices.windows.net/edd3631b-bceb-45a1-82bb-addf532aba4d/Unit2_Section1.3a-Iterate_a_String.ism/manifest\",\"type\":\"application/vnd.ms-sstr+xml\"}],[{\"src\":\"http://jupyternootbookwams.streaming.mediaservices.windows.net/edd3631b-bceb-45a1-82bb-addf532aba4d/Unit2_Section1.3a-Iterate_a_String.vtt\",\"srclang\":\"en\",\"kind\":\"subtitles\",\"label\":\"english\"}])\n",
    "### `for letter in word:`\n",
    "Python provides powerful sequence iteration features.  Below, **`for letter in word:`** loops through each letter in *word*.\n",
    "\n",
    "```python\n",
    "word = \"cello\"\n",
    "\n",
    "for letter in word:\n",
    "    print(letter)\n",
    "```  \n",
    "\n",
    "The variable **`letter`** is an arbitrary variable name .  Any valid variable name can be used.\n"
   ]
  },
  {
   "cell_type": "markdown",
   "metadata": {},
   "source": [
    "# &nbsp;\n",
    "<font size=\"6\" color=\"#00A0B2\"  face=\"verdana\"> <B>Examples</B></font>"
   ]
  },
  {
   "cell_type": "code",
   "execution_count": null,
   "metadata": {
    "collapsed": false
   },
   "outputs": [],
   "source": [
    "# [ ] review and run example\n",
    "word = \"cello\"\n",
    "\n",
    "for letter in word:\n",
    "    print(letter)"
   ]
  },
  {
   "cell_type": "code",
   "execution_count": null,
   "metadata": {
    "collapsed": false
   },
   "outputs": [],
   "source": [
    "# [ ] review and run example\n",
    "# note: the variable 'letter' changed to 'item'\n",
    "word = \"trumpet\"\n",
    "\n",
    "for item in word:\n",
    "    print(item)"
   ]
  },
  {
   "cell_type": "code",
   "execution_count": null,
   "metadata": {
    "collapsed": false
   },
   "outputs": [],
   "source": [
    "# [ ] review and run example\n",
    "# note: variable is now 'xyz' \n",
    "# using 'xyz', 'item' or 'letter' are all the same result\n",
    "word = \"piano\"\n",
    "\n",
    "for xyz in word:\n",
    "    print(xyz)"
   ]
  },
  {
   "cell_type": "code",
   "execution_count": null,
   "metadata": {
    "collapsed": false
   },
   "outputs": [],
   "source": [
    "# [ ] review and run example\n",
    "# creates a new string (new_name) adding a letter (ltr) each loop\n",
    "# Q?: how many times will the loop run?\n",
    "student_name = \"Skye\"\n",
    "new_name = \"\"\n",
    "\n",
    "for ltr in student_name:\n",
    "    if ltr.lower() == \"y\":\n",
    "        new_name += ltr.upper()\n",
    "    else:\n",
    "        new_name += ltr\n",
    "print(student_name,\"to\",new_name)"
   ]
  },
  {
   "cell_type": "markdown",
   "metadata": {
    "collapsed": true
   },
   "source": [
    "# &nbsp;\n",
    "<font size=\"6\" color=\"#B24C00\"  face=\"verdana\"> <B>Task 1</B></font>\n",
    "\n",
    "## iterate a String\n",
    "### one character at a time"
   ]
  },
  {
   "cell_type": "code",
   "execution_count": null,
   "metadata": {
    "collapsed": false
   },
   "outputs": [],
   "source": [
    "# [ ] Get user input for first_name\n",
    "# [ ] iterate through letters in first_name \n",
    "#    - print each letter on a new line\n",
    "\n",
    "\n",
    "\n"
   ]
  },
  {
   "cell_type": "markdown",
   "metadata": {},
   "source": [
    "# &nbsp;\n",
    "<font size=\"6\" color=\"#B24C00\"  face=\"verdana\"> <B>Task 2</B></font>\n",
    "\n",
    "## Program: capitalize-io\n",
    "- get user input for first_name\n",
    "- create an empty string variable: new_name\n",
    "- iterate through letters in first_name \n",
    "  -  add each letter in new_name\n",
    "  - capitalize if letter is an \"i\" or \"o\" *(hint: if, elif, else)\n",
    "- print new_name"
   ]
  },
  {
   "cell_type": "code",
   "execution_count": null,
   "metadata": {
    "collapsed": false
   },
   "outputs": [],
   "source": [
    "# [ ] Create capitalize-io\n",
    "\n"
   ]
  },
  {
   "cell_type": "markdown",
   "metadata": {},
   "source": [
    "# &nbsp;\n",
    "<font size=\"6\" color=\"#00A0B2\"  face=\"verdana\"> <B>Concepts</B></font>\n",
    "## Iterate sub-strings \n",
    "[![view video](https://iajupyterprodblobs.blob.core.windows.net/imagecontainer/common/play_video.png)]( http://edxinteractivepage.blob.core.windows.net/edxpages/f7cff1a7-5601-48a1-95a6-fd1fdfabd20e.html?details=[{\"src\":\"http://jupyternootbookwams.streaming.mediaservices.windows.net/257ed101-c530-406a-ba20-6d437d88e529/Unit2_Section1.3b-Iterate-Substrings.ism/manifest\",\"type\":\"application/vnd.ms-sstr+xml\"}],[{\"src\":\"http://jupyternootbookwams.streaming.mediaservices.windows.net/257ed101-c530-406a-ba20-6d437d88e529/Unit2_Section1.3b-Iterate-Substrings.vtt\",\"srclang\":\"en\",\"kind\":\"subtitles\",\"label\":\"english\"}])\n",
    "Combine String slicing and iteration\n",
    "\n",
    "```python\n",
    "student_name = \"Skye\"\n",
    "\n",
    "for letter in student_name[:3]:\n",
    "    print(letter)\n",
    "```  \n",
    "\n",
    "Iterate backwards using: **`student_name[::-1]`**"
   ]
  },
  {
   "cell_type": "markdown",
   "metadata": {},
   "source": [
    "### &nbsp;\n",
    "<font size=\"6\" color=\"#00A0B2\"  face=\"verdana\"> <B>Example</B></font>"
   ]
  },
  {
   "cell_type": "code",
   "execution_count": null,
   "metadata": {
    "collapsed": false
   },
   "outputs": [],
   "source": [
    "# [ ] review and run example\n",
    "student_name = \"Skye\"\n",
    "\n",
    "for letter in student_name[:3]:\n",
    "    print(letter)"
   ]
  },
  {
   "cell_type": "code",
   "execution_count": null,
   "metadata": {
    "collapsed": false
   },
   "outputs": [],
   "source": [
    "# Iterate BACKWARDS\n",
    "# [ ] review and run example\n",
    "student_name = \"Skye\"\n",
    "\n",
    "# start at \"y\" (student_name[2]), iterate backwards\n",
    "for letter in student_name[2::-1]:\n",
    "    print(letter)"
   ]
  },
  {
   "cell_type": "markdown",
   "metadata": {
    "collapsed": true
   },
   "source": [
    "# &nbsp;\n",
    "<font size=\"6\" color=\"#B24C00\"  face=\"verdana\"> <B>Task 3</B></font>\n",
    "###  String slicing and iteration"
   ]
  },
  {
   "cell_type": "code",
   "execution_count": null,
   "metadata": {
    "collapsed": false
   },
   "outputs": [],
   "source": [
    "# [ ] create & print a variable, other_word, made of every other letter in long_word\n",
    "long_word = \"juxtaposition\"\n",
    "\n"
   ]
  },
  {
   "cell_type": "code",
   "execution_count": null,
   "metadata": {
    "collapsed": false
   },
   "outputs": [],
   "source": [
    "# Mirror Color\n",
    "# [ ] get user input, fav_color\n",
    "# [ ] print fav_color backwards + fav_color\n",
    "# example: \"Red\" prints \"deRRed\"\n",
    "\n"
   ]
  },
  {
   "cell_type": "markdown",
   "metadata": {},
   "source": [
    "[Terms of use](http://go.microsoft.com/fwlink/?LinkID=206977) &nbsp; [Privacy & cookies](https://go.microsoft.com/fwlink/?LinkId=521839) &nbsp; © 2017 Microsoft"
   ]
  }
 ],
 "metadata": {
  "anaconda-cloud": {},
  "kernelspec": {
   "display_name": "Python 3",
   "language": "python",
   "name": "python3"
  },
  "language_info": {
   "codemirror_mode": {
    "name": "ipython",
    "version": 3
   },
   "file_extension": ".py",
   "mimetype": "text/x-python",
   "name": "python",
   "nbconvert_exporter": "python",
   "pygments_lexer": "ipython3",
   "version": "3.5.1"
  }
 },
 "nbformat": 4,
 "nbformat_minor": 1
}
