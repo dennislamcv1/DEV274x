{
 "cells": [
  {
   "cell_type": "markdown",
   "metadata": {},
   "source": [
    "# 2-2 Intro Python Practice\n",
    "## Lists\n",
    "<font size=\"5\" color=\"#00A0B2\"  face=\"verdana\"> <B>Student will be able to</B></font>  \n",
    "- Create Lists\n",
    "- Access items in a list\n",
    "- Add Items to the end of a list\n",
    "- Insert items into a list\n",
    "- Delete items from a list"
   ]
  },
  {
   "cell_type": "markdown",
   "metadata": {},
   "source": [
    "## Create Lists"
   ]
  },
  {
   "cell_type": "code",
   "execution_count": null,
   "metadata": {
    "collapsed": false
   },
   "outputs": [],
   "source": [
    "# [ ] create and populate list called days_of_week then print it\n",
    "\n"
   ]
  },
  {
   "cell_type": "code",
   "execution_count": null,
   "metadata": {
    "collapsed": false
   },
   "outputs": [],
   "source": [
    "# [ ] after days_of_week is run above, print the days in the list at odd indexes 1,3,5\n",
    "\n"
   ]
  },
  {
   "cell_type": "markdown",
   "metadata": {},
   "source": [
    "## Phone letters\n",
    "![phone keys: number and letters](https://iajupyterprodblobs.blob.core.windows.net/imagecontainer/phone_letters.JPG)\n",
    "Create a list, **`phone_letters`**, where the index 0 - 9 contains the letters for keys 0 - 9.  \n",
    "\n",
    "- 0 = ' ' (a space)\n",
    "- 1 = '' (empty)\n",
    "- 2 = 'ABC'\n",
    "- 3 = 'DEF'\n",
    "- etc...\n"
   ]
  },
  {
   "cell_type": "code",
   "execution_count": null,
   "metadata": {
    "collapsed": false
   },
   "outputs": [],
   "source": [
    "# [ ] create and populate list called phone_letters then print it\n",
    "\n"
   ]
  },
  {
   "cell_type": "markdown",
   "metadata": {
    "collapsed": true
   },
   "source": [
    "## Access Lists\n",
    "### for the 2 cells below\n",
    "- Use days_of_week list created above\n",
    "- Run the cell above to make the list available"
   ]
  },
  {
   "cell_type": "code",
   "execution_count": null,
   "metadata": {
    "collapsed": false
   },
   "outputs": [],
   "source": [
    "# [ ] create a variable: day, assign day to \"Tuesday\" using days_of_week[]\n",
    "# [ ] print day variable\n",
    "\n",
    "\n",
    "\n"
   ]
  },
  {
   "cell_type": "code",
   "execution_count": null,
   "metadata": {
    "collapsed": false
   },
   "outputs": [],
   "source": [
    "# PART 2\n",
    "# [ ] assign day to days_of_week index = 5\n",
    "# [ ] print day\n",
    "\n",
    "\n"
   ]
  },
  {
   "cell_type": "markdown",
   "metadata": {},
   "source": [
    "## Append and Insert items into a list\n",
    "\n",
    "### Endsday, Midsday, Resterday\n",
    "#### for the exercises below\n",
    "- Use days_of_week list created above\n",
    "- Run the cell defining days_of_week above to make the list available"
   ]
  },
  {
   "cell_type": "code",
   "execution_count": null,
   "metadata": {
    "collapsed": false
   },
   "outputs": [],
   "source": [
    "# [ ] Make up a new day! - append an 8th day of the week to days_of_week \n",
    "# [ ] print days_of_week\n",
    "\n",
    "\n"
   ]
  },
  {
   "cell_type": "markdown",
   "metadata": {},
   "source": [
    "### Question  \n",
    "- What happens if you keep running the cell above?  \n",
    "- How can you return to the initial state with the regular 7 days in days_of_week? "
   ]
  },
  {
   "cell_type": "code",
   "execution_count": null,
   "metadata": {
    "collapsed": false
   },
   "outputs": [],
   "source": [
    "# [ ] Make up another new day - insert a new day into the middle of days_of_week between Wed - Thurs\n",
    "# [ ] print days_of_week\n",
    "\n",
    "\n"
   ]
  },
  {
   "cell_type": "code",
   "execution_count": null,
   "metadata": {
    "collapsed": false
   },
   "outputs": [],
   "source": [
    "# [ ]  Extend the weekend - insert a day between Fri & Sat in the days_of_week list\n",
    "# [ ] print days_of_week\n",
    "\n",
    "\n"
   ]
  },
  {
   "cell_type": "markdown",
   "metadata": {},
   "source": [
    "## Delete from a list\n",
    "### `del` & `.pop()` some bad ideas\n",
    "#### exercises below assume days_of_week appended/inserted 3 extra days in previous exercises"
   ]
  },
  {
   "cell_type": "code",
   "execution_count": null,
   "metadata": {
    "collapsed": false
   },
   "outputs": [],
   "source": [
    "# [ ] print days_of_week \n",
    "# [ ] modified week is too long - pop() the last index of days_of_week & print .pop() value\n",
    "# [ ] print days_of_week\n",
    "\n",
    "\n"
   ]
  },
  {
   "cell_type": "code",
   "execution_count": null,
   "metadata": {
    "collapsed": false
   },
   "outputs": [],
   "source": [
    "# [ ] print days_of_week \n",
    "# [ ] delete (del) the new day added to the middle of the week \n",
    "# [ ] print days_of_week\n",
    "\n",
    "\n"
   ]
  },
  {
   "cell_type": "code",
   "execution_count": null,
   "metadata": {
    "collapsed": false
   },
   "outputs": [],
   "source": [
    "# [ ] print days_of_week \n",
    "# [ ] programmers choice - pop() any day in days_of week & print .pop() value\n",
    "# [ ] print days_of_week\n",
    "\n"
   ]
  },
  {
   "cell_type": "markdown",
   "metadata": {},
   "source": [
    "## Program:  Letter to Number Function\n",
    "# TODO: insert video\n",
    "### for the exercise below\n",
    "- Use phone_letters list created above\n",
    "- Run the cell above to make the list available \n",
    "\n",
    "#### recall unit 1 using **`in`** to search for a string in a string\n",
    "```python\n",
    "if \"e\" in \"open\":\n",
    "    print(\"e found\")\n",
    "else:\n",
    "   print(\"e not found\")\n",
    "```\n",
    "\n",
    "![phone keys: number and letters](https://iajupyterprodblobs.blob.core.windows.net/imagecontainer/phone_letters.JPG)\n",
    "\n",
    "### create funtion let_to_num()\n",
    "- let_to_num() takes input of a single letter, space or empty string stored in an argument variable: letter\n",
    "  - use `while key < 10:` to try numbers 0 - 9 as index for `phone_letters` (\"key\" = phone dial pad key)\n",
    "  - check if `letter` variable is in the index of `phone_letters[key]` \n",
    "```python\n",
    "key = 0\n",
    "while key < 10:\n",
    "    if # Create Code: determine if letter is **`in`** any of the phone_letters[key] where key is the index 0 -9:\n",
    "        return key\n",
    "    else:\n",
    "        key = key + 1\n",
    "return \"Not Found\"\n",
    "```\n",
    "- return the number or \"Not Found\"\n",
    "- **call** let_to_num() to test the function so it prints the argument and return value with:\n",
    "  - space\n",
    "  - lowercase letter\n",
    "  - different letter, uppercase\n",
    "  - a number\n",
    "  \n",
    "**Bonus**: create a special case to check if empty string (`\"\"`) was submitted   \n",
    "the problem is that an empty string will be found in all strings as  \n",
    "```python\n",
    "if \"\" in \"ABC\": \n",
    "```  \n",
    "is True, and is true for any phone_letters, but should `return 1`"
   ]
  },
  {
   "cell_type": "code",
   "execution_count": null,
   "metadata": {
    "collapsed": false
   },
   "outputs": [],
   "source": [
    "# [ ] create let_to_num()\n",
    "\n"
   ]
  },
  {
   "cell_type": "code",
   "execution_count": null,
   "metadata": {
    "collapsed": false
   },
   "outputs": [],
   "source": []
  },
  {
   "cell_type": "markdown",
   "metadata": {},
   "source": [
    "## Challenge: reverse a string \n",
    "### using \n",
    "- while\n",
    "- .pop()\n",
    "- insert()  \n",
    "\n",
    "**`pop()`** the **first item** in the list and "
   ]
  },
  {
   "cell_type": "code",
   "execution_count": null,
   "metadata": {
    "collapsed": false
   },
   "outputs": [],
   "source": [
    "# [ ] Challenge: write the code for \"reverse a string\"\n",
    "\n",
    "    \n",
    " "
   ]
  },
  {
   "cell_type": "code",
   "execution_count": null,
   "metadata": {
    "collapsed": false
   },
   "outputs": [],
   "source": []
  },
  {
   "cell_type": "markdown",
   "metadata": {
    "collapsed": false
   },
   "source": [
    "[Terms of use](http://go.microsoft.com/fwlink/?LinkID=206977) &nbsp; [Privacy & cookies](https://go.microsoft.com/fwlink/?LinkId=521839) &nbsp; © 2017 Microsoft"
   ]
  }
 ],
 "metadata": {
  "anaconda-cloud": {},
  "kernelspec": {
   "display_name": "Python 3",
   "language": "python",
   "name": "python3"
  },
  "language_info": {
   "codemirror_mode": {
    "name": "ipython",
    "version": 3
   },
   "file_extension": ".py",
   "mimetype": "text/x-python",
   "name": "python",
   "nbconvert_exporter": "python",
   "pygments_lexer": "ipython3",
   "version": "3.5.1"
  }
 },
 "nbformat": 4,
 "nbformat_minor": 0
}
