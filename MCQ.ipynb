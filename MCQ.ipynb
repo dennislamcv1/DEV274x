{
 "cells": [
  {
   "cell_type": "code",
   "execution_count": 1,
   "metadata": {},
   "outputs": [
    {
     "name": "stdout",
     "output_type": "stream",
     "text": [
      "2\n"
     ]
    }
   ],
   "source": [
    "student_name = \"iteration\"\n",
    "count = 0\n",
    "for letter in student_name:\n",
    "    if letter.lower() == \"e\":\n",
    "        print(count)\n",
    "    count += 1"
   ]
  },
  {
   "cell_type": "code",
   "execution_count": 3,
   "metadata": {},
   "outputs": [
    {
     "data": {
      "text/plain": [
       "[7, 1, 8, 0]"
      ]
     },
     "execution_count": 3,
     "metadata": {},
     "output_type": "execute_result"
    }
   ],
   "source": [
    "numbers = [7, 1, 5, 8, 0]\n",
    "del numbers[2] \n",
    "numbers"
   ]
  },
  {
   "cell_type": "code",
   "execution_count": 6,
   "metadata": {},
   "outputs": [
    {
     "name": "stdout",
     "output_type": "stream",
     "text": [
      "7\n",
      "[]\n"
     ]
    }
   ],
   "source": [
    "numbers = [2, 3, 2]\n",
    "total = 0\n",
    "while numbers:\n",
    "    total += numbers.pop()\n",
    "print(total)\n",
    "print(numbers)"
   ]
  },
  {
   "cell_type": "code",
   "execution_count": 1,
   "metadata": {},
   "outputs": [
    {
     "name": "stdout",
     "output_type": "stream",
     "text": [
      "Dubai\n"
     ]
    }
   ],
   "source": [
    "cities = [\"New York\", \"Shanghai\", \"Munich\", \"Tokyo\", \"Dubai\", \"Mexico City\", \"São Paulo\", \"Hyderabad\"]\n",
    "\n",
    "for city in cities:\n",
    "    if city.startswith(\"P\"):\n",
    "        print(city)\n",
    "    elif city.startswith(\"D\"):\n",
    "        print(city)"
   ]
  },
  {
   "cell_type": "code",
   "execution_count": 3,
   "metadata": {},
   "outputs": [
    {
     "data": {
      "text/plain": [
       "2"
      ]
     },
     "execution_count": 3,
     "metadata": {},
     "output_type": "execute_result"
    }
   ],
   "source": [
    "test_string = 'Mexico City'\n",
    "ltr_cnt = test_string.lower().count('c')\n",
    "ltr_cnt"
   ]
  },
  {
   "cell_type": "code",
   "execution_count": 4,
   "metadata": {},
   "outputs": [
    {
     "name": "stdout",
     "output_type": "stream",
     "text": [
      "0\n",
      "1\n",
      "2\n",
      "3\n",
      "4\n"
     ]
    }
   ],
   "source": [
    "seq=range(0,5)\n",
    "for x in seq:\n",
    "    print(x)"
   ]
  },
  {
   "cell_type": "code",
   "execution_count": 5,
   "metadata": {},
   "outputs": [
    {
     "name": "stdout",
     "output_type": "stream",
     "text": [
      "0123456\n"
     ]
    }
   ],
   "source": [
    "numbers = \"\"\n",
    "for x in range(7):\n",
    "    numbers += str(x)\n",
    "print(numbers)\n"
   ]
  },
  {
   "cell_type": "code",
   "execution_count": 6,
   "metadata": {},
   "outputs": [
    {
     "name": "stdout",
     "output_type": "stream",
     "text": [
      "246\n"
     ]
    }
   ],
   "source": [
    "numbers = \"\"\n",
    "for x in range(2,8,2):\n",
    "    numbers += str(x)\n",
    "print(numbers)"
   ]
  },
  {
   "cell_type": "code",
   "execution_count": 7,
   "metadata": {},
   "outputs": [
    {
     "name": "stdout",
     "output_type": "stream",
     "text": [
      "024\n"
     ]
    }
   ],
   "source": [
    "numbers = \"\"\n",
    "for x in range(0,5,2):\n",
    "    numbers += str(x)\n",
    "print(numbers)"
   ]
  },
  {
   "cell_type": "code",
   "execution_count": 8,
   "metadata": {},
   "outputs": [
    {
     "name": "stdout",
     "output_type": "stream",
     "text": [
      "[0, 1, 2, 5, 7, 9, 11]\n"
     ]
    }
   ],
   "source": [
    "scores = [ 0, 5, 2, 11, 1, 9, 7]\n",
    "print(sorted(scores))"
   ]
  },
  {
   "cell_type": "code",
   "execution_count": 9,
   "metadata": {},
   "outputs": [
    {
     "name": "stdout",
     "output_type": "stream",
     "text": [
      "[0, 1, 2, 5, 7, 9, 11]\n"
     ]
    }
   ],
   "source": [
    "scores = [ 0, 5, 2, 11, 1, 9, 7]\n",
    "scores.sort()  \n",
    "print(scores)"
   ]
  },
  {
   "cell_type": "code",
   "execution_count": 10,
   "metadata": {},
   "outputs": [
    {
     "name": "stdout",
     "output_type": "stream",
     "text": [
      "['Strings', 'are', 'a', 'sequence', 'of', 'characters']\n"
     ]
    }
   ],
   "source": [
    "tip = 'Strings are a sequence of characters'\n",
    "tip_list = tip.split()\n",
    "print(tip_list)"
   ]
  },
  {
   "cell_type": "code",
   "execution_count": 11,
   "metadata": {},
   "outputs": [
    {
     "name": "stdout",
     "output_type": "stream",
     "text": [
      "mistakes()are()a()part()of()learning\n"
     ]
    }
   ],
   "source": [
    "wisdom_list = [\"mistakes\", \"are\", \"a\", \"part\", \"of\", \"learning\"]\n",
    "wisdom_string = \"()\".join(wisdom_list)\n",
    "print(wisdom_string)"
   ]
  },
  {
   "cell_type": "code",
   "execution_count": 12,
   "metadata": {},
   "outputs": [
    {
     "name": "stdout",
     "output_type": "stream",
     "text": [
      "['-Python', '-uses', '-spaces', '-for', '-indentation']\n"
     ]
    }
   ],
   "source": [
    "code_tip = \"-PythonO-usesO-spacesO-forO-indentation\"\n",
    "tip_words = code_tip.split('O')\n",
    "print(tip_words)"
   ]
  },
  {
   "cell_type": "code",
   "execution_count": 1,
   "metadata": {},
   "outputs": [
    {
     "name": "stdout",
     "output_type": "stream",
     "text": [
      "Beijing\n",
      "Ca\n"
     ]
    }
   ],
   "source": [
    "test1 = open('cities.txt', 'r')\n",
    "ten_char = test1.read(10)\n",
    "print(ten_char)"
   ]
  },
  {
   "cell_type": "code",
   "execution_count": null,
   "metadata": {},
   "outputs": [],
   "source": [
    "books = open('poem2.txt', 'r')"
   ]
  },
  {
   "cell_type": "code",
   "execution_count": 1,
   "metadata": {},
   "outputs": [
    {
     "name": "stdout",
     "output_type": "stream",
     "text": [
      "Maths*High*School\n"
     ]
    }
   ],
   "source": [
    "schools = open(\"schoolnames.txt\", \"r\")  \n",
    "name = schools.readline().strip('*\\n')\n",
    "\n",
    "while name:\n",
    "    if name.startswith(\"M\"):\n",
    "        print(name)\n",
    "    else:\n",
    "        pass\n",
    "    name = schools.readline().strip('*\\n')"
   ]
  },
  {
   "cell_type": "code",
   "execution_count": null,
   "metadata": {},
   "outputs": [],
   "source": [
    "schools = open(\"school.txt\", \"w+\")  \n"
   ]
  }
 ],
 "metadata": {
  "kernelspec": {
   "display_name": "Python 3",
   "language": "python",
   "name": "python3"
  },
  "language_info": {
   "codemirror_mode": {
    "name": "ipython",
    "version": 3
   },
   "file_extension": ".py",
   "mimetype": "text/x-python",
   "name": "python",
   "nbconvert_exporter": "python",
   "pygments_lexer": "ipython3",
   "version": "3.6.7"
  }
 },
 "nbformat": 4,
 "nbformat_minor": 2
}
