{
 "cells": [
  {
   "cell_type": "markdown",
   "metadata": {},
   "source": [
    "# 2-4.4 Intro Python\n",
    "## Working with Files\n",
    "4.1 File import in Jupyter Notebooks  \n",
    "4.1 File **`open()`** and **`.read()`**  \n",
    "4.2 File Read as a list with **`.readlines()`**  \n",
    "4.2 File Closing to free resources with **`.close()`**  \n",
    "4.3 File Read a line at a time with **`.readline()`**  \n",
    "4.3 Remove characters using **`.strip()`**   \n",
    "4.4 **`.write()` data to a new local file**  \n",
    "4.4 **File `.write()`**  with **`.seek()`**  \n",
    "4.4 **File append**   \n",
    "\n",
    "----- \n",
    "\n",
    "><font size=\"5\" color=\"#00A0B2\"  face=\"verdana\"> <B>Student will be able to</B></font>  \n",
    "4.1 Import files in Jupyter Notebooks  \n",
    "4.1 Open and **`.read()`** local files in memory   \n",
    "4.1 **`.read()`** a specific number of characters  \n",
    "4.2 Use **`.readlines()`** to read data from file as a **list** of lines  \n",
    "4.2 Use **`.readlines()`** to read data from file as a **list** of lines   \n",
    "4.3 Use **`.readline()`** to read data from file a line at a time   \n",
    "4.3 Use **`.strip()`** to remove new line characters  \n",
    "4.4 **`.write()` data to a new local file**  \n",
    "4.4 **Use `.seek()` to set file read or write location**  \n",
    "4.4 **Use file append mode**  "
   ]
  },
  {
   "cell_type": "markdown",
   "metadata": {},
   "source": [
    "# &nbsp;\n",
    "<font size=\"6\" color=\"#00A0B2\"  face=\"verdana\"> <B>Concepts</B></font>\n",
    "## writing to a file opened in write mode `'w' or 'w+'`\n",
    ">```python\n",
    "poem_file = open('poem.txt', 'w') \n",
    "poem_file.write(\"Hello World!\\n\")\n",
    "```  \n",
    "\n",
    "[![view video](https://iajupyterprodblobs.blob.core.windows.net/imagecontainer/common/play_video.png)]( http://edxinteractivepage.blob.core.windows.net/edxpages/f7cff1a7-5601-48a1-95a6-fd1fdfabd20e.html?details=[{\"src\":\"http://jupyternootbookwams.streaming.mediaservices.windows.net/7d6dfbf1-4af7-4324-bc36-67041c62c8f9/Unit2_Section4.4a-Writing_to_File_in_Write_Mode.ism/manifest\",\"type\":\"application/vnd.ms-sstr+xml\"}],[{\"src\":\"http://jupyternootbookwams.streaming.mediaservices.windows.net/7d6dfbf1-4af7-4324-bc36-67041c62c8f9/Unit2_Section4.4a-Writing_to_File_in_Write_Mode.vtt\",\"srclang\":\"en\",\"kind\":\"subtitles\",\"label\":\"english\"}])\n",
    "### write mode:  `'w' `  \n",
    "### write mode plus read: `'w+'`  \n",
    "#### **`'w'`** and **`'w+'`** modes will create a new file or overwrite existing files  \n",
    "**All previous data will be lost**"
   ]
  },
  {
   "cell_type": "markdown",
   "metadata": {},
   "source": [
    "# &nbsp;\n",
    "<font size=\"6\" color=\"#00A0B2\"  face=\"verdana\"> <B>Examples</B></font>"
   ]
  },
  {
   "cell_type": "code",
   "execution_count": null,
   "metadata": {},
   "outputs": [],
   "source": [
    "# [ ] review and run example\n",
    "# - creates a new local file or overwrites the local file (makes it blank)\n",
    "new_file = open('new_file.txt', 'w')"
   ]
  },
  {
   "cell_type": "code",
   "execution_count": null,
   "metadata": {},
   "outputs": [],
   "source": [
    "# [ ] review and run example to write some text to the file\n",
    "new_file.write(\"This is line #1 with 'w'\\nThis is line #2 with 'w'\\nThis is line #3 withn 'w'!\\n\")"
   ]
  },
  {
   "cell_type": "code",
   "execution_count": null,
   "metadata": {
    "collapsed": true
   },
   "outputs": [],
   "source": [
    "# [ ] review and run example\n",
    "# - close file and re-open in read mode \n",
    "# - head pointer is at start of file\n",
    "new_file.close()\n",
    "new_file = open('new_file.txt', 'r')"
   ]
  },
  {
   "cell_type": "code",
   "execution_count": null,
   "metadata": {
    "scrolled": true
   },
   "outputs": [],
   "source": [
    "# [ ] review and run example to see what was written to the file\n",
    "new_text = new_file.read()\n",
    "print(new_text)\n",
    "\n",
    "new_file.close()"
   ]
  },
  {
   "cell_type": "markdown",
   "metadata": {},
   "source": [
    "#### `'w+'` means the file is in write plus read mode  \n",
    "- after any write, the pointer is at the end of text that has been written \n",
    "- to read the entire file, the pointer needs to be at the beginning of the file - see **.seek()** below to set the file pointer"
   ]
  },
  {
   "cell_type": "markdown",
   "metadata": {
    "collapsed": true
   },
   "source": [
    "# &nbsp;\n",
    "<font size=\"6\" color=\"#B24C00\"  face=\"verdana\"> <B>Task 1</B></font>\n",
    "\n",
    "## create a local file  \n",
    "### open in 'w' mode  \n",
    "- open inner_planets.txt in write mode **'w'** to create a local file\n",
    "- write the first four planets from the sun in earth's solar system (Mercury, Venus, Earth, Mars) on separate lines\n",
    "- close the file and re-open in read mode **'r'** \n",
    "- use .read() to read the entire file contents\n",
    "- print the entire file contents"
   ]
  },
  {
   "cell_type": "code",
   "execution_count": null,
   "metadata": {},
   "outputs": [],
   "source": [
    "# [ ] open planets.txt in write mode\n",
    "\n"
   ]
  },
  {
   "cell_type": "code",
   "execution_count": null,
   "metadata": {},
   "outputs": [],
   "source": [
    "# [ ] write Mercury, Venus, Earth, Mars on separate lines\n",
    "\n"
   ]
  },
  {
   "cell_type": "code",
   "execution_count": null,
   "metadata": {},
   "outputs": [],
   "source": [
    "# [ ] close the file and re-open in read mode\n",
    "\n"
   ]
  },
  {
   "cell_type": "code",
   "execution_count": null,
   "metadata": {
    "collapsed": true
   },
   "outputs": [],
   "source": [
    "# [ ] use .read() to read the entire file contents\n",
    "\n"
   ]
  },
  {
   "cell_type": "code",
   "execution_count": null,
   "metadata": {},
   "outputs": [],
   "source": [
    "# [ ] print the entire file contents and close the file\n",
    "\n"
   ]
  },
  {
   "cell_type": "markdown",
   "metadata": {},
   "source": [
    "# &nbsp;\n",
    "<font size=\"6\" color=\"#00A0B2\"  face=\"verdana\"> <B>Concepts</B></font>\n",
    "## using .seek(0) \n",
    "### setting the pointer to beginning of file  \n",
    ">```python\n",
    "new_file.seek(0)\n",
    "new_contents = new_file.read()\n",
    "print(new_contents)\n",
    "```  \n",
    "\n",
    "[![view video](https://iajupyterprodblobs.blob.core.windows.net/imagecontainer/common/play_video.png)]( http://edxinteractivepage.blob.core.windows.net/edxpages/f7cff1a7-5601-48a1-95a6-fd1fdfabd20e.html?details=[{\"src\":\"http://jupyternootbookwams.streaming.mediaservices.windows.net/4c62275e-0df8-44f5-91a8-6e16755995aa/Unit2_Section4.4b-Using_Seek.ism/manifest\",\"type\":\"application/vnd.ms-sstr+xml\"}],[{\"src\":\"http://jupyternootbookwams.streaming.mediaservices.windows.net/4c62275e-0df8-44f5-91a8-6e16755995aa/Unit2_Section4.4b-Using_Seek.vtt\",\"srclang\":\"en\",\"kind\":\"subtitles\",\"label\":\"english\"}])\n",
    "### using .seek() to set the read/write pointer to beginning of file  \n",
    "**`new_file.seek(0)`** moves the file read\\write pointer to the start of the file "
   ]
  },
  {
   "cell_type": "markdown",
   "metadata": {},
   "source": [
    "### &nbsp;\n",
    "<font size=\"6\" color=\"#00A0B2\"  face=\"verdana\"> <B>Examples</B></font>\n",
    "### seek() with `'w+'`"
   ]
  },
  {
   "cell_type": "code",
   "execution_count": null,
   "metadata": {},
   "outputs": [],
   "source": [
    "# [ ] review and run example\n",
    "# creates a new local file or overwrites the local file (makes it blank)\n",
    "new_file = open('new_file.txt', 'w+')"
   ]
  },
  {
   "cell_type": "markdown",
   "metadata": {},
   "source": [
    "write plus read **`'w+'`**  \n",
    "**`'w+'`** overwrites existing files of the same name - **rendering the file blank**  \n",
    "the file is writeable and readable"
   ]
  },
  {
   "cell_type": "code",
   "execution_count": null,
   "metadata": {},
   "outputs": [],
   "source": [
    "# [ ] review and run example to see what was written to the file \n",
    "# - 'w+' overwrites, we can read, but the file is ***BLANK***\n",
    "new_text = new_file.read()\n",
    "print(new_text)"
   ]
  },
  {
   "cell_type": "code",
   "execution_count": null,
   "metadata": {},
   "outputs": [],
   "source": [
    "# [ ] review and run - write to the blank file\n",
    "new_file.write(\"This is line #1 with 'w+'\\nThis is line #2 with 'w+'\\n\")"
   ]
  },
  {
   "cell_type": "code",
   "execution_count": null,
   "metadata": {},
   "outputs": [],
   "source": [
    "# [ ] review and run example - read and print (Note: the pointer is at the end of the file - result = empty string)\n",
    "new_text = new_file.read()\n",
    "\n",
    "print(new_text)"
   ]
  },
  {
   "cell_type": "markdown",
   "metadata": {},
   "source": [
    "## Expected: prints empty string above  \n",
    "pointer was at end of file where there is nothing to read"
   ]
  },
  {
   "cell_type": "markdown",
   "metadata": {},
   "source": [
    "### seek(0)  \n",
    "sets the pointer to the beginning of the file, enabling read() to input the entire file contents"
   ]
  },
  {
   "cell_type": "code",
   "execution_count": null,
   "metadata": {},
   "outputs": [],
   "source": [
    "# [ ] review and run example - sets pointer to beginning of file\n",
    "new_file.seek(0)"
   ]
  },
  {
   "cell_type": "code",
   "execution_count": null,
   "metadata": {},
   "outputs": [],
   "source": [
    "# [ ] review and run example - now read starts from beginning of file\n",
    "new_text = new_file.read()\n",
    "print(new_text)\n"
   ]
  },
  {
   "cell_type": "code",
   "execution_count": null,
   "metadata": {
    "collapsed": true
   },
   "outputs": [],
   "source": [
    "# # [ ] review and run example - clean up and close file\n",
    "new_file.close()"
   ]
  },
  {
   "cell_type": "markdown",
   "metadata": {
    "collapsed": true
   },
   "source": [
    "# &nbsp;\n",
    "<font size=\"6\" color=\"#B24C00\"  face=\"verdana\"> <B>Task 2</B></font>\n",
    "\n",
    "## using `.seek(0)` on a local file in write plus read mode `'w+'`\n",
    "### open outer_planets.txt in 'w+' mode (write plus read) \n",
    "- open **outer_planets.txt** in write plus read mode **'w+'** \n",
    "- write four outer planets in earth's solar system (Jupiter, Saturn, Uranus, Neptune) on separate lines  \n",
    "- use .seek() to move the pointer to the start of the file\n",
    "- use .read() to read the entire file contents\n",
    "- print the entire file contents and close the file"
   ]
  },
  {
   "cell_type": "code",
   "execution_count": null,
   "metadata": {},
   "outputs": [],
   "source": [
    "# [ ] open outer_planets.txt in write mode 'w+' \n",
    "\n"
   ]
  },
  {
   "cell_type": "code",
   "execution_count": null,
   "metadata": {},
   "outputs": [],
   "source": [
    "# [ ] write four outer planets in earth's solar system (Jupiter, Saturn, Uranus, Neptune) on separate lines\n",
    "\n"
   ]
  },
  {
   "cell_type": "code",
   "execution_count": null,
   "metadata": {},
   "outputs": [],
   "source": [
    "# [ ] use .seek() to move the pointer to the start of the file\n",
    "# [ ] use .read() to read the entire file contents\n",
    "\n"
   ]
  },
  {
   "cell_type": "code",
   "execution_count": null,
   "metadata": {},
   "outputs": [],
   "source": [
    "# [ ] print the entire file contents and close the file\n",
    "\n"
   ]
  },
  {
   "cell_type": "markdown",
   "metadata": {},
   "source": [
    "# &nbsp;\n",
    "<font size=\"6\" color=\"#00A0B2\"  face=\"verdana\"> <B>Concepts</B></font>\n",
    "## using .seek() *offset* and *whence* \n",
    "### setting the pointer in a file with positive *offset* values and *whence* location \n",
    ">```python\n",
    "new_file.seek(13)\n",
    "new_contents = new_file.read()\n",
    "print(new_contents)\n",
    "```  \n",
    "```python\n",
    "new_file.seek(0,2)\n",
    "```  \n",
    "\n",
    "[![view video](https://iajupyterprodblobs.blob.core.windows.net/imagecontainer/common/play_video.png)]( http://edxinteractivepage.blob.core.windows.net/edxpages/f7cff1a7-5601-48a1-95a6-fd1fdfabd20e.html?details=[{\"src\":\"http://jupyternootbookwams.streaming.mediaservices.windows.net/c2b8a760-a39d-45a2-80e1-a2b79264b120/Unit2_Section4.4c-Seek_Variations-Offset_Whence.ism/manifest\",\"type\":\"application/vnd.ms-sstr+xml\"}],[{\"src\":\"http://jupyternootbookwams.streaming.mediaservices.windows.net/c2b8a760-a39d-45a2-80e1-a2b79264b120/Unit2_Section4.4c-Seek_Variations-Offset_Whence.vtt\",\"srclang\":\"en\",\"kind\":\"subtitles\",\"label\":\"english\"}])\n",
    "### using .seek() to set the read/write pointer in a file   \n",
    "#### *offset* values and *whence* arguments\n",
    ".seek() can set the pointer to a desired index from the beginning of the file  \n",
    "the example below moves to the character to offset 10 (the 11th character)  \n",
    "```python\n",
    "new_file.seek(10)\n",
    "```  \n",
    "\n",
    "which is also written with an optional second argument, know as *whence* (\"from where\")  \n",
    "```python\n",
    "new_file.seek(10,0)\n",
    "```  \n",
    "using 0 for *whence* starts the *offset* from the beginning of the file\n",
    "\n",
    ">**Note:** the offset must be a positive integer in Python 3, so we cannot offset backwards from the end of the file  \n",
    "\n",
    "## `file.seek(offset, whence)`\n",
    "| whence mode | description               |  \n",
    "|:-----------:|---------------------------|\n",
    "| 0 | points to the beginning of the file |   \n",
    "| 1 | points to the current location |  \n",
    "| 2 | points to the end of the file & offset is always 0|  \n",
    "\n",
    "using ** *whence* ** the index can be offset from either the beginning, current location or to the end of the file (where there is no offset applied)  "
   ]
  },
  {
   "cell_type": "markdown",
   "metadata": {},
   "source": [
    "# &nbsp;\n",
    "<font size=\"6\" color=\"#00A0B2\"  face=\"verdana\"> <B>Examples</B></font>  \n",
    "### seek to a specific location"
   ]
  },
  {
   "cell_type": "code",
   "execution_count": null,
   "metadata": {},
   "outputs": [],
   "source": [
    "# [ ] review and run - create, write, read and print a file\n",
    "tips_file = open('code_tips.txt', 'w+')\n",
    "tips_file.write('-use simple function and variable names\\n-comment code\\n-organize code into functions\\n')\n",
    "tips_file.seek(0)\n",
    "tips_text = tips_file.read()\n",
    "print(tips_text)"
   ]
  },
  {
   "cell_type": "code",
   "execution_count": null,
   "metadata": {},
   "outputs": [],
   "source": [
    "# [ ] review and run example - setting a specific seek() index \n",
    "tips_file.seek(13)\n",
    "# now read starts from 14th character of file\n",
    "tips_text = tips_file.read()\n",
    "print(tips_text)"
   ]
  },
  {
   "cell_type": "code",
   "execution_count": null,
   "metadata": {},
   "outputs": [],
   "source": [
    "# [ ] review and run example - string slicing on a read of an entire file\n",
    "# read from the start\n",
    "tips_file.seek(0)\n",
    "tips_text = tips_file.read()\n",
    "\n",
    "# slice from the 14th character to end\n",
    "print(tips_text[13:])"
   ]
  },
  {
   "cell_type": "markdown",
   "metadata": {},
   "source": [
    "# &nbsp;\n",
    "<font size=\"6\" color=\"#00A0B2\"  face=\"verdana\"> <B>Examples</B></font>  \n",
    "### seek() with optional *whence* argument "
   ]
  },
  {
   "cell_type": "code",
   "execution_count": null,
   "metadata": {},
   "outputs": [],
   "source": [
    "# [ ] review and run example - setting pointer to end of file with whence value = 2\n",
    "tips_file.seek(0,2)\n",
    "tips_file.write(\"-use seek(0,2) to set read/write at end of file\\n\")\n",
    "\n",
    "# read from beginning of file - .seek(0,0) is same as .seek(0)\n",
    "tips_file.seek(0,0)\n",
    "tips_text = tips_file.read()\n",
    "print(tips_text)"
   ]
  },
  {
   "cell_type": "code",
   "execution_count": null,
   "metadata": {},
   "outputs": [],
   "source": [
    "# [ ] review and run example - point to file beginning and overwrite 1st line\n",
    "tips_file.seek(0)\n",
    "tips_file.write('-use simple function and variable names\\n'.upper())\n"
   ]
  },
  {
   "cell_type": "code",
   "execution_count": null,
   "metadata": {},
   "outputs": [],
   "source": [
    "# [ ] review and run example - show new file contents\n",
    "tips_file.seek(0,0)\n",
    "tips_text = tips_file.read()\n",
    "print(tips_text)"
   ]
  },
  {
   "cell_type": "markdown",
   "metadata": {},
   "source": [
    "# &nbsp;\n",
    "<font size=\"6\" color=\"#B24C00\"  face=\"verdana\"> <B>Task 3</B></font>\n",
    "## seek() with optional whence argument\n",
    "- open a new file **days.txt** in write plus read mode **'w+'** \n",
    "- write week days (Monday - Friday) on separate lines  \n",
    "- use .seek() to move the pointer to the start of the file\n",
    "- use .read() to read the entire file contents\n",
    "- print the entire file contents and close the file\n",
    "- use .seek() to move the pointer to the end of the file and write the weekend days (Saturday & Sunday)\n",
    "- use .seek() to move the pointer to the start of the file\n",
    "- use .read() to read the entire file contents\n",
    "- print the entire file contents and close the file"
   ]
  },
  {
   "cell_type": "code",
   "execution_count": null,
   "metadata": {},
   "outputs": [],
   "source": [
    "# [ ] open a new file days.txt in write plus read mode 'w+' \n",
    "# [ ] write week days (Monday - Friday) on separate lines to the file\n",
    "\n"
   ]
  },
  {
   "cell_type": "code",
   "execution_count": null,
   "metadata": {},
   "outputs": [],
   "source": [
    "# [ ] use .seek() to move the pointer to the start of the file\n",
    "# [ ] use .read() to read the entire file contents\n",
    "# [ ] print the entire file contents and close the file\n",
    "\n"
   ]
  },
  {
   "cell_type": "code",
   "execution_count": null,
   "metadata": {},
   "outputs": [],
   "source": [
    "# [ ] use .seek() to move the pointer to the end of the file\n",
    "# [ ] write the weekend days (Saturday & Sunday)\n",
    "\n"
   ]
  },
  {
   "cell_type": "code",
   "execution_count": null,
   "metadata": {},
   "outputs": [],
   "source": [
    "# [ ] use .seek() to move the pointer to the start of the file\n",
    "# [ ] use .read() to read the entire file contents\n",
    "# [ ] print the entire file contents and close the file\n",
    "\n",
    "\n"
   ]
  },
  {
   "cell_type": "markdown",
   "metadata": {},
   "source": [
    "# &nbsp;\n",
    "<font size=\"6\" color=\"#00A0B2\"  face=\"verdana\"> <B>Concepts</B></font>\n",
    "## open a file in a writeable mode\n",
    "[![view video](https://iajupyterprodblobs.blob.core.windows.net/imagecontainer/common/play_video.png)]( http://edxinteractivepage.blob.core.windows.net/edxpages/f7cff1a7-5601-48a1-95a6-fd1fdfabd20e.html?details=[{\"src\":\"http://jupyternootbookwams.streaming.mediaservices.windows.net/35b90424-34b0-4c9b-aef6-50966636f0b8/Unit2_Section4.4d-Write_Modes.ism/manifest\",\"type\":\"application/vnd.ms-sstr+xml\"}],[{\"src\":\"http://jupyternootbookwams.streaming.mediaservices.windows.net/35b90424-34b0-4c9b-aef6-50966636f0b8/Unit2_Section4.4d-Write_Modes.vtt\",\"srclang\":\"en\",\"kind\":\"subtitles\",\"label\":\"english\"}])\n",
    "### open a file in a writing mode, with: `'w', 'w+', 'r+', 'a', 'a+'` \n",
    "| MODE    |  Description  |  \n",
    "|:-------:|:--------------|  \n",
    "| 'r'  | read only mode |  \n",
    "| **'w'** | write - **overwrites** file with same name |  \n",
    "| **'w+'** | write and read mode - **overwrites** file with same name|  \n",
    "| **'r+'** | read and write mode (**no** overwrite) |  \n",
    "| **'a'**  | opens for appending to end of file (**no** overwrite) |  \n",
    "| **'a+'** | opens for appending to end of file (**no** overwrite) plus read |  \n",
    "\n",
    "**warning: `'w'`** and **`'w+'`** modes will create a new file or **overwrite** existing files (deleting all file contents)"
   ]
  },
  {
   "cell_type": "markdown",
   "metadata": {
    "collapsed": true
   },
   "source": [
    "# &nbsp;\n",
    "<font size=\"6\" color=\"#00A0B2\"  face=\"verdana\"> <B>Concepts</B></font>\n",
    "## writing to a file opened in additional write modes:  `'r+', 'a', 'a+'` \n",
    "Writing is the same - pointers are different\n",
    ">```python\n",
    "poem_file = open('poem.txt', 'r+') \n",
    "poem_file.write(\"Hello World!\\n\")\n",
    "```  \n",
    "```python\n",
    "poem_file = open('poem.txt', 'a+') \n",
    "poem_file.write(\"Goodbye, this is the end of the file\\n\")\n",
    "```  \n",
    "\n",
    "[![view video](https://iajupyterprodblobs.blob.core.windows.net/imagecontainer/common/play_video.png)]( http://edxinteractivepage.blob.core.windows.net/edxpages/f7cff1a7-5601-48a1-95a6-fd1fdfabd20e.html?details=[{\"src\":\"http://jupyternootbookwams.streaming.mediaservices.windows.net/64698d6f-d193-485a-be39-0e9286aca1dc/Unit2_Section4.4e-Read_Write_Append.ism/manifest\",\"type\":\"application/vnd.ms-sstr+xml\"}],[{\"src\":\"http://jupyternootbookwams.streaming.mediaservices.windows.net/64698d6f-d193-485a-be39-0e9286aca1dc/Unit2_Section4.4e-Read_Write_Append.vtt\",\"srclang\":\"en\",\"kind\":\"subtitles\",\"label\":\"english\"}])\n",
    "### read mode plus write `'r+'` and append modes `'a', 'a+'`\n",
    "#### read plus mode `'r+'` differs from write modes `'w', 'w+'`  \n",
    "- read plus doesn't blank out the file contents with an overwrite  \n",
    " \n",
    "#### append modes `'a', 'a+'` differ from write modes `'w', 'w+'`   \n",
    "- append doesn't blank out the file contents with an overwrite  \n",
    "- append pointer is set to the end of the file for every write\n",
    "- append plus (a+) is append mode, **plus** read mode\n",
    "\n",
    "|   `'r+', 'a', 'a+'`                        |  \n",
    "|:------------------------------------------:|  \n",
    "|will **not overwrite** existing file content creating a blank file|   "
   ]
  },
  {
   "cell_type": "markdown",
   "metadata": {},
   "source": [
    "### &nbsp;\n",
    "<font size=\"6\" color=\"#00A0B2\"  face=\"verdana\"> <B>Examples</B></font>  \n",
    "#### append plus mode `a+`"
   ]
  },
  {
   "cell_type": "code",
   "execution_count": null,
   "metadata": {},
   "outputs": [],
   "source": [
    "# [ ] review and run example - function writes to the open log argument\n",
    "# loads funtion into memory but the funtion is not called\n",
    "def logger(log):\n",
    "    log_entry = input(\"enter log item (enter to quit): \")\n",
    "    count = 0\n",
    "\n",
    "    while log_entry:\n",
    "        count += 1\n",
    "        log.write(str(count) + \": \" + log_entry + \"\\n\")\n",
    "        log_entry = input(\"enter log item (enter to quit): \")\n",
    "        \n",
    "    return count\n",
    "    "
   ]
  },
  {
   "cell_type": "code",
   "execution_count": null,
   "metadata": {},
   "outputs": [],
   "source": [
    "# [ ] review and run example: makes a blank file  (initialize/reset)\n",
    "\n",
    "log_file = open('log_file.txt', 'w+')\n",
    "log_file.close()"
   ]
  },
  {
   "cell_type": "code",
   "execution_count": null,
   "metadata": {},
   "outputs": [],
   "source": [
    "# [ ] review and run example - opens the log_file before passing to logger() function call, below\n",
    "# allows for calls below to run several times appending to the end of log_file\n",
    "\n",
    "log_file = open('log_file.txt', 'a+')"
   ]
  },
  {
   "cell_type": "code",
   "execution_count": null,
   "metadata": {},
   "outputs": [],
   "source": [
    "# [ ] review and run example - calls the above logger() function\n",
    "# what happens running the cell above (a+) again before running this cell again? \n",
    "# what happens if log_file.seek(0) is run before an append?\n",
    "\n",
    "logger(log_file)    \n",
    "\n",
    "log_file.seek(0)\n",
    "log_text = log_file.read()\n",
    "\n",
    "print()\n",
    "print(log_text)\n",
    "log_file.close()"
   ]
  },
  {
   "cell_type": "markdown",
   "metadata": {},
   "source": [
    "#### read plus mode `r+`  \n",
    "[![view video](https://iajupyterprodblobs.blob.core.windows.net/imagecontainer/common/play_video.png)](http://edxinteractivepage.blob.core.windows.net/edxpages/f7cff1a7-5601-48a1-95a6-fd1fdfabd20e.html?details=[{\"src\":\"http://jupyternootbookwams.streaming.mediaservices.windows.net/64adc0f6-c26b-439f-94f5-e011daded3cf/Unit2_Section4.4f_read_plus.ism/manifest\",\"type\":\"application/vnd.ms-sstr+xml\"}],[{\"src\":\"http://jupyternootbookwams.streaming.mediaservices.windows.net/64adc0f6-c26b-439f-94f5-e011daded3cf/Unit2_Section4.4f_read_plus.vtt\",\"srclang\":\"en\",\"kind\":\"subtitles\",\"label\":\"english\"}])\n",
    "create a file that has one line: \"Count is: x\"   \n",
    "overwrite with new count at the x location (x is an integer)"
   ]
  },
  {
   "cell_type": "code",
   "execution_count": null,
   "metadata": {},
   "outputs": [],
   "source": [
    "# [ ] review and run example - create a file with initial count of 0\n",
    "count_file = open(\"count_file.txt\", \"w+\")\n",
    "\n",
    "count_file.write(\"Count is: 0\")\n",
    "count_file.seek(0)\n",
    "print(count_file.readline().strip())\n",
    "\n",
    "count_file.close()"
   ]
  },
  {
   "cell_type": "code",
   "execution_count": null,
   "metadata": {},
   "outputs": [],
   "source": [
    "# [ ] review and run example - can rerun this cell\n",
    "count_file = open(\"count_file.txt\", \"r+\")\n",
    "\n",
    "count_file.seek(0)\n",
    "count_line = count_file.readline().strip()\n",
    "print(\"BEFORE\\n\" + count_line)\n",
    "\n",
    "# get the int character(s) after the colon and space, cast and increment\n",
    "count = int(count_line[10:])+1\n",
    "\n",
    "# write the incremented value to the file - overwrite before value\n",
    "count_file.seek(10)\n",
    "count_file.write(str(count))\n",
    "\n",
    "count_file.seek(0)\n",
    "print(\"\\nAFTER\\n\" + count_file.readline().strip())\n",
    "\n",
    "count_file.close()"
   ]
  },
  {
   "cell_type": "code",
   "execution_count": null,
   "metadata": {
    "collapsed": true
   },
   "outputs": [],
   "source": [
    "# [ ]  review funtion code for inc_count() funtion that reads file and updates the count\n",
    "# the file always has 1 line that is The count is: N, where N is an integer\n",
    "def inc_count(cnt_file):\n",
    "    cnt_file.seek(0,0)\n",
    "    cnt_line = cnt_file.readline().strip()\n",
    "    cnt = int(cnt_line[10:])+1\n",
    "    cnt_file.seek(10,0)\n",
    "    cnt_file.write(str(cnt))\n",
    "    return cnt"
   ]
  },
  {
   "cell_type": "code",
   "execution_count": null,
   "metadata": {},
   "outputs": [],
   "source": [
    "# [ ] review and run example with call to function: inc_count() - **Run cell multiple times**\n",
    "# opens file/prints initial value\n",
    "count_file = open(\"count_file.txt\", \"r+\")\n",
    "\n",
    "count_file.seek(0)\n",
    "count_line = count_file.readline().strip()\n",
    "print(\"BEFORE\\n\" + count_line)\n",
    "\n",
    "# call inc_count() to increase the count 5 times\n",
    "for i in range(5):\n",
    "    count = inc_count(count_file)\n",
    "    count_file.seek(0)\n",
    "    print(\"\\nAFTER inc_count() call\", i+1, \"\\n\" + count_file.readline().strip())\n",
    "\n",
    "count_file.close()"
   ]
  },
  {
   "cell_type": "markdown",
   "metadata": {
    "collapsed": true
   },
   "source": [
    "# &nbsp;\n",
    "<font size=\"6\" color=\"#B24C00\"  face=\"verdana\"> <B>Task 4</B></font>  \n",
    "## append\n",
    "- Open task4_file.txt in append plus mode (\"a+\")  \n",
    "- create a `for item in range(5):` loop, for each loop:  \n",
    "  - write to the file: \"append #\"+ str(item)+\"\\n\"  \n",
    "  - use seek() to set the pointer to the beginning of the file  \n",
    "- print the file contents using file .read() method after eiting the loop\n",
    "\n",
    "in append mode the file should only write to the end of the file regardless of setting seek() location"
   ]
  },
  {
   "cell_type": "code",
   "execution_count": null,
   "metadata": {},
   "outputs": [],
   "source": [
    "# [ ] complete the task\n",
    "# Provided Code creates and populates task4_file.txt\n",
    "task4_file = open('task4_file.txt', 'w+')\n",
    "task4_file.write(\"Line1\\nLine2\\nLine3\\n\")\n",
    "task4_file.close()\n",
    "# [ ] code here\n",
    "\n",
    "\n",
    "\n"
   ]
  },
  {
   "cell_type": "markdown",
   "metadata": {
    "collapsed": true
   },
   "source": [
    "# &nbsp;\n",
    "<font size=\"6\" color=\"#B24C00\"  face=\"verdana\"> <B>Task 5</B></font>  \n",
    "## read plus (`r+`) mode  \n",
    "read the provided code and complete the code as follows:  \n",
    "- Run the provided code below to create/open, print and close task5_file.txt \n",
    "- Open task5_file.txt in append plus mode (`\"r+\"`)  \n",
    "- create a &nbsp; **`for item in range(1,5):`** loop, then, during each loop:  \n",
    "  - write to the file: **`\"append#\" + str(item)+ \"\\n\"`**  \n",
    "  - use **`.seek(item*18)`** to set the pointer to 18x's the loop count  \n",
    "  Note: starting the first loop, `item` is 1 if using range(1,5), seek will be set to 18, 36, 54, 72  \n",
    "- print the file contents using file `.read()` method after exiting the loop  \n",
    "\n",
    "**\"r+\"** mode will write wherever the pointer is set - such as after a read or from using .seek()"
   ]
  },
  {
   "cell_type": "code",
   "execution_count": null,
   "metadata": {},
   "outputs": [],
   "source": [
    "# [ ] complete the task\n",
    "# Provided Code creates and populates task5_file.txt\n",
    "task5_file = open('task5_file.txt', 'w+')\n",
    "task5_file.write(\"Line---1\\nLine---2\\nLine---3\\nLine---4\\nLine---5\\nLine---6\\nLine---7\\nLine---8\\nLine---9\\nLine--10\\n\")\n",
    "task5_file.seek(0)\n",
    "print(\"Before:\\n\"+ task5_file.read()+\"\\n\")\n",
    "task5_file.close()\n",
    "\n",
    "# [ ] code here\n",
    "\n",
    "\n",
    "\n"
   ]
  },
  {
   "cell_type": "code",
   "execution_count": null,
   "metadata": {},
   "outputs": [],
   "source": []
  },
  {
   "cell_type": "markdown",
   "metadata": {
    "collapsed": true
   },
   "source": [
    "[Terms of use](http://go.microsoft.com/fwlink/?LinkID=206977) &nbsp; [Privacy & cookies](https://go.microsoft.com/fwlink/?LinkId=521839) &nbsp; © 2017 Microsoft"
   ]
  }
 ],
 "metadata": {
  "anaconda-cloud": {},
  "kernelspec": {
   "display_name": "Python 3",
   "language": "python",
   "name": "python3"
  },
  "language_info": {
   "codemirror_mode": {
    "name": "ipython",
    "version": 3
   },
   "file_extension": ".py",
   "mimetype": "text/x-python",
   "name": "python",
   "nbconvert_exporter": "python",
   "pygments_lexer": "ipython3",
   "version": "3.5.1"
  }
 },
 "nbformat": 4,
 "nbformat_minor": 1
}
