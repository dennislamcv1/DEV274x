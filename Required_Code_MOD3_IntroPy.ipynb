{
 "cells": [
  {
   "cell_type": "markdown",
   "metadata": {},
   "source": [
    "\n",
    "#  Module 3 Required Coding Activity  \n",
    "Introduction to Python (Unit 2) Fundamentals  \n",
    "\n",
    "**This Activity is intended to be completed in the jupyter notebook, Required_Code_MOD3_IntroPy.ipynb, and then pasted into the assessment page that follows.**   \n",
    " \n",
    "All course .ipynb Jupyter Notebooks are available from the project files download topic in Module 1, Section 1.\n",
    "\n",
    "This is an activity from the Jupyter Notebook **`Practice_MOD03_IntroPy.ipynb`** which you may have already completed.\n",
    "\n",
    "|  Assignment Requirements |  \n",
    "|:-------------------------------|  \n",
    "| **NOTE:** This program requires **`print`** output and using code syntax used in module 3: **`if`**, **`input`**, **`def`**, **`return`**, **`for`**/**`in`** keywords, **`.lower()`** and **`.upper()`** method, **`.append`**, **`.pop`**, **`.split`** methods, **`range`** and **`len`** functions  |  \n",
    "\n",
    "## Program: poem mixer  \n",
    "This program takes string input and then prints out a mixed order version of the string    \n",
    "\n",
    "\n",
    "**Program Parts**  \n",
    "- **program flow** gathers the word list, modifies the case and order, and prints      \n",
    "  - get string input, input like a poem, verse or saying \n",
    "  - split the string into a list of individual words  \n",
    "  - determine the length of the list\n",
    "  - Loop the length of the list by index number and for each list index:  \n",
    "    - if a word is short (3 letters or less) make the word in the list lowercase \n",
    "    - if a word is long (7 letters or more) make the word in the list uppercase   \n",
    "  - **call the word_mixer** function with the modified list  \n",
    "  - print the return value from the word_mixer function  \n",
    "\n",
    "- **word_mixer** Function has 1 argument: an original list of string words, containing greater than 5 words and the function returns a new list.   \n",
    "  - sort the original list  \n",
    "  - create a new list  \n",
    "  - Loop while the list is longer than 5 words:  \n",
    "    - *in each loop pop a word from the sorted original list and append to the new list*  \n",
    "    - pop the word 5th from the end of the list and append to the new list  \n",
    "    - pop the first word in the list and append to the new list  \n",
    "    - pop the last word in the list and append to the new list  \n",
    "  - **return** the new list on exiting the loop\n",
    "\n",
    "\n",
    "\n",
    "![TODO: upload image to blob](https://qitcyg-ch3302.files.1drv.com/y4mtK8FJlu7bvNCw_NFrJNnMEX05-bGQKZ-ljIB7ofo8jg14zZKLdYrjXQfPcL1PnNKqaBc_v85pd-47J8BBRN3Eg5LXSmxbhZG99zHmQwVTSQBd6n3S1IXgcG0lqjA8PGW1NVMQyPtX-_m_sGry5j1iCJzjiZmUrFmGckPrEYxvjPIHHelgxQ4oVYG32S32otj0cdV8f9aDv3cnvb9AvDKqg?width=727&height=586&cropmode=none)\n",
    "\n",
    "\n",
    " **input example**  *(beginning of William Blake poem, \"The Fly\")*\n",
    "\n",
    " >enter a saying or poem: `Little fly, Thy summer’s play My thoughtless hand Has brushed away. Am not I A fly like thee? Or art not thou A man like me?`  \n",
    "\n",
    "\n",
    "**output example**   \n",
    ">`or BRUSHED thy not Little thou me? SUMMER’S thee? like THOUGHTLESS play i a not hand a my fly am man`\n",
    "\n",
    "\n",
    "**alternative output** in each loop in the function that creates the new list add a \"\\\\n\" to the list   \n",
    "```\n",
    " or BRUSHED thy \n",
    " not Little thou \n",
    " me? SUMMER’S thee? \n",
    " like THOUGHTLESS play \n",
    " i a not \n",
    " hand a my \n",
    " fly am man\n",
    "```\n",
    "\n"
   ]
  },
  {
   "cell_type": "code",
   "execution_count": 1,
   "metadata": {},
   "outputs": [
    {
     "name": "stdout",
     "output_type": "stream",
     "text": [
      "Enter a string : Little fly, Thy summer’s play My thoughtless hand Has brushed away. Am not I A fly like thee? Or art not thou A man like me?\n",
      "['Little', 'fly,', 'thy', 'SUMMER’S', 'play', 'my', 'THOUGHTLESS', 'hand', 'has', 'BRUSHED', 'away.', 'am', 'not', 'i', 'a', 'fly', 'like', 'thee?', 'or', 'art', 'not', 'thou', 'a', 'man', 'like', 'me?'] \n",
      "\n",
      "Reduced words_list ['art', 'away.', 'fly,', 'has', 'like'] \n",
      "\n",
      "or BRUSHED thy\n",
      "not Little thou\n",
      "me? SUMMER’S thee?\n",
      "like THOUGHTLESS play\n",
      "i a not\n",
      "hand a my\n",
      "fly am man\n"
     ]
    }
   ],
   "source": [
    "# [] create poem mixer\n",
    "def word_mixer(words_list):\n",
    "    words_list.sort()\n",
    "    new_words=[]\n",
    "    while len(words_list)>5:\n",
    "        new_words.append(words_list.pop(-5)+' '+words_list.pop(0)+' '+words_list.pop())\n",
    "    print('Reduced words_list',words_list,'\\n')\n",
    "    return new_words\n",
    "        \n",
    "msg_input=input(\"Enter a string : \")\n",
    "words_list=msg_input.split()\n",
    "list_length=len(words_list)\n",
    "for i in range(list_length):\n",
    "    if len(words_list[i])<=3:\n",
    "        words_list[i] = words_list[i].lower()\n",
    "    elif len(words_list[i]) >= 7:\n",
    "        words_list[i] = words_list[i].upper()\n",
    "    else:\n",
    "        pass\n",
    "print(words_list,'\\n')\n",
    "new_list = word_mixer(words_list)\n",
    "for name in new_list:\n",
    "    print(name)\n",
    "\n",
    "\n",
    "\n"
   ]
  },
  {
   "cell_type": "markdown",
   "metadata": {},
   "source": [
    "### Need assignment tips and clarification? \n",
    "See the video on the \"End of Module coding assignment > Module 3 Required Code Description\" course page on [edX](https://courses.edx.org/courses/course-v1:Microsoft+DEV274x+4T2017/course)    \n",
    "\n",
    "# Important:  [How to submit code by pasting](https://courses.edx.org/courses/course-v1:Microsoft+DEV274x+2T2017/wiki/Microsoft.DEV274x.2T2017/paste-code-end-module-coding-assignments/)\n"
   ]
  },
  {
   "cell_type": "markdown",
   "metadata": {},
   "source": [
    "[Terms of use](http://go.microsoft.com/fwlink/?LinkID=206977) &nbsp; [Privacy & cookies](https://go.microsoft.com/fwlink/?LinkId=521839) &nbsp; © 2017 Microsoft"
   ]
  }
 ],
 "metadata": {
  "anaconda-cloud": {},
  "kernelspec": {
   "display_name": "Python 3",
   "language": "python",
   "name": "python3"
  },
  "language_info": {
   "codemirror_mode": {
    "name": "ipython",
    "version": 3
   },
   "file_extension": ".py",
   "mimetype": "text/x-python",
   "name": "python",
   "nbconvert_exporter": "python",
   "pygments_lexer": "ipython3",
   "version": "3.6.7"
  }
 },
 "nbformat": 4,
 "nbformat_minor": 1
}
