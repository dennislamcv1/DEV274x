{
 "cells": [
  {
   "cell_type": "markdown",
   "metadata": {},
   "source": [
    "# 2-1.4 Intro Python\n",
    "## Sequence: String\n",
    "- Accessing String Character with index\n",
    "- Accessing sub-strings with index slicing\n",
    "- Iterating through Characters of a String\n",
    "- **More String Methods**\n",
    "\n",
    "----- \n",
    "\n",
    "><font size=\"5\" color=\"#00A0B2\"  face=\"verdana\"> <B>Student will be able to</B></font>  \n",
    "- Work with String Characters\n",
    "- Slice strings into substrings\n",
    "- Iterate through String Characters\n",
    "- **Use String ~~Tricks~~ Methods**\n",
    "  - `len()`\n",
    "  - `.count()`\n",
    "  - `.find()`"
   ]
  },
  {
   "cell_type": "markdown",
   "metadata": {},
   "source": [
    "# &nbsp;\n",
    "<font size=\"6\" color=\"#00A0B2\"  face=\"verdana\"> <B>Concepts</B></font>\n",
    "## String Methods: return string information\n",
    "[![view video](https://iajupyterprodblobs.blob.core.windows.net/imagecontainer/common/play_video.png)]( http://edxinteractivepage.blob.core.windows.net/edxpages/f7cff1a7-5601-48a1-95a6-fd1fdfabd20e.html?details=[{\"src\":\"http://jupyternootbookwams.streaming.mediaservices.windows.net/c300e46e-b3c7-4bbf-8117-e72b33998cd3/Unit2_Section1.4a-String_Methods-Length.ism/manifest\",\"type\":\"application/vnd.ms-sstr+xml\"}],[{\"src\":\"http://jupyternootbookwams.streaming.mediaservices.windows.net/c300e46e-b3c7-4bbf-8117-e72b33998cd3/Unit2_Section1.4a-String_Methods-Length.vtt\",\"srclang\":\"en\",\"kind\":\"subtitles\",\"label\":\"english\"}])\n",
    "### len()  \n",
    "returns a strings length  \n",
    "### .count()  \n",
    "returns number of times a character or sub-string occur  \n",
    "### .find()   \n",
    "returns index of first character or sub-string match  \n",
    "returns **-1** if no match found  \n",
    "\n",
    "```python\n",
    "work_tip = \"save your code\"\n",
    "\n",
    "# number of characters\n",
    "len(work_tip)\n",
    "\n",
    "# letter \"e\" occurrences\n",
    "work_tip.count(\"e\")\n",
    "\n",
    "# find the index of the first space\n",
    "work_tip.find(\" \")\n",
    "\n",
    "# find the index of \"u\" searching a slice work_tip[3:6]\n",
    "work_tip.find(\"u\",3,6)\n",
    "```  \n",
    "These methods **return** information that we can use to sort or manipulate strings"
   ]
  },
  {
   "cell_type": "markdown",
   "metadata": {},
   "source": [
    "# &nbsp;\n",
    "<font size=\"6\" color=\"#00A0B2\"  face=\"verdana\"> <B>Examples</B></font>  \n",
    "run each example cell in order"
   ]
  },
  {
   "cell_type": "code",
   "execution_count": null,
   "metadata": {
    "collapsed": false
   },
   "outputs": [],
   "source": [
    "# [ ] review and run example\n",
    "work_tip = \"save your code\"\n",
    "\n",
    "print(\"number of characters in string\")\n",
    "print(len(work_tip),\"\\n\")\n",
    "\n",
    "print('letter \"e\" occurrences')\n",
    "print(work_tip.count(\"e\"),\"\\n\")\n",
    "\n",
    "print(\"find the index of the first space\")\n",
    "print(work_tip.find(\" \"),\"\\n\")\n",
    "\n",
    "print('find the index of \"u\" searching a slice work_tip[3:9] -', work_tip[3:9])\n",
    "print(work_tip.find(\"u\",3,9),\"\\n\")\n",
    "\n",
    "print('find the index of \"e\" searching a slice work_tip[4:] -', work_tip[4:])\n",
    "print(work_tip.find(\"e\",4))"
   ]
  },
  {
   "cell_type": "markdown",
   "metadata": {},
   "source": [
    "### len()  \n",
    "returns a strings length  "
   ]
  },
  {
   "cell_type": "code",
   "execution_count": null,
   "metadata": {
    "collapsed": false
   },
   "outputs": [],
   "source": [
    "# [ ] review and run example\n",
    "work_tip = \"good code is commented code\"\n",
    "\n",
    "print(\"The sentence: \\\"\" + work_tip + \"\\\" has character length = \", len(work_tip) )"
   ]
  },
  {
   "cell_type": "code",
   "execution_count": null,
   "metadata": {
    "collapsed": false
   },
   "outputs": [],
   "source": [
    "# [ ] review and run example\n",
    "# find the middle index\n",
    "work_tip = \"good code is commented code\"\n",
    "mid_pt = int(len(work_tip)/2)\n",
    "\n",
    "# print 1st half of sentence\n",
    "print(work_tip[:mid_pt])\n",
    "\n",
    "# print the 2nd half of sentence\n",
    "print(work_tip[mid_pt:])"
   ]
  },
  {
   "cell_type": "markdown",
   "metadata": {},
   "source": [
    "### .count()  \n",
    "returns number of times a character or sub-string occur   "
   ]
  },
  {
   "cell_type": "code",
   "execution_count": null,
   "metadata": {
    "collapsed": false
   },
   "outputs": [],
   "source": [
    "# [ ] review and run example\n",
    "print(work_tip)\n",
    "print(\"how many w's? \", work_tip.count(\"w\"))\n",
    "print(\"how many o's? \", work_tip.count(\"o\"))\n",
    "print(\"uses 'code', how many times? \", work_tip.count(\"code\"))"
   ]
  },
  {
   "cell_type": "code",
   "execution_count": null,
   "metadata": {
    "collapsed": false
   },
   "outputs": [],
   "source": [
    "# [ ] review and run example \n",
    "print(work_tip[:mid_pt])\n",
    "print(\"# o's in first half\")\n",
    "print(work_tip[:mid_pt].count(\"o\"))\n",
    "\n",
    "print()\n",
    "print(work_tip[mid_pt:])\n",
    "print(\"# o's in second half\")\n",
    "print(work_tip[mid_pt:].count(\"o\"))"
   ]
  },
  {
   "cell_type": "markdown",
   "metadata": {},
   "source": [
    "### .find(*string*) \n",
    "returns index of first character or sub-string match  \n",
    "returns **-1** if no match found\n",
    "#### .find(*string*, *start index*, *end index*)\n",
    "same as above .find() but searches from optional start and to optional end index"
   ]
  },
  {
   "cell_type": "code",
   "execution_count": null,
   "metadata": {
    "collapsed": false
   },
   "outputs": [],
   "source": [
    "# [ ] review and run example \n",
    "work_tip = \"good code has meaningful variable names\"\n",
    "print(work_tip)\n",
    "# index where first instance of \"code\" starts\n",
    "code_here = work_tip.find(\"code\")\n",
    "print(code_here, '= starting index for \"code\"')"
   ]
  },
  {
   "cell_type": "code",
   "execution_count": null,
   "metadata": {
    "collapsed": false
   },
   "outputs": [],
   "source": [
    "# [ ] review and run example \n",
    "# set start index = 13 and end index = 33\n",
    "print('search for \"meaning\" in the sub-string:', work_tip[13:33],\"\\n\")\n",
    "meaning_here = work_tip.find(\"meaning\",13,33)\n",
    "print('\"meaning\" found in work_tip[13:33] sub-string search at index', meaning_here)"
   ]
  },
  {
   "cell_type": "code",
   "execution_count": null,
   "metadata": {
    "collapsed": false
   },
   "outputs": [],
   "source": [
    "# [ ] review and run example \n",
    "# if .find(\"o\") has No Match, -1 is returned\n",
    "print (\"work_tip:\" , work_tip)\n",
    "location = work_tip.find(\"o\")\n",
    "\n",
    "# keeps looping until location = -1 (no \"o\" found)\n",
    "while location >= 0:\n",
    "    print(\"'o' at index =\", location)\n",
    "    # find(\"o\", location + 1) looks for a \"o\" after index the first \"o\" was found\n",
    "    location = work_tip.find(\"o\", location + 1)\n",
    "print(\"no more o's\")"
   ]
  },
  {
   "cell_type": "markdown",
   "metadata": {
    "collapsed": true
   },
   "source": [
    "# &nbsp;\n",
    "<font size=\"6\" color=\"#B24C00\"  face=\"verdana\"> <B>Task 1</B></font>\n",
    "\n",
    "## `len()`"
   ]
  },
  {
   "cell_type": "code",
   "execution_count": null,
   "metadata": {
    "collapsed": false
   },
   "outputs": [],
   "source": [
    "# [ ] use len() to find the midpoint of the string \n",
    "# [ ] print the halves on separate lines\n",
    "random_tip = \"wear a hat when it rains\"\n",
    "\n",
    "\n"
   ]
  },
  {
   "cell_type": "markdown",
   "metadata": {},
   "source": [
    "# &nbsp;\n",
    "<font size=\"6\" color=\"#B24C00\"  face=\"verdana\"> <B>Task 2</B></font>\n",
    "\n",
    "## `.count()`"
   ]
  },
  {
   "cell_type": "code",
   "execution_count": null,
   "metadata": {
    "collapsed": false
   },
   "outputs": [],
   "source": [
    "# for letters: \"e\" and \"a\" in random_tip\n",
    "# [ ] print letter counts \n",
    "# [ ] BONUS: print which letter is most frequent\n",
    "random_tip = \"wear a hat when it rains\"\n",
    "\n",
    "\n"
   ]
  },
  {
   "cell_type": "markdown",
   "metadata": {
    "collapsed": true
   },
   "source": [
    "# &nbsp;\n",
    "<font size=\"6\" color=\"#B24C00\"  face=\"verdana\"> <B>Task 3</B></font>\n",
    "###  `.find()`"
   ]
  },
  {
   "cell_type": "code",
   "execution_count": null,
   "metadata": {
    "collapsed": false
   },
   "outputs": [],
   "source": [
    "# [ ] print long_word from the location of the first and second \"t\"\n",
    "long_word = \"juxtaposition\"\n",
    "\n"
   ]
  },
  {
   "cell_type": "markdown",
   "metadata": {
    "collapsed": true
   },
   "source": [
    "# &nbsp;\n",
    "<font size=\"6\" color=\"#B24C00\"  face=\"verdana\"> <B>Task 4</B></font>\n",
    "##  Program: print each word in a quote\n",
    "```python\n",
    "start = 0\n",
    "space_index = quote.find(\" \")\n",
    "while space_index != -1:\n",
    "    # code to print word (index slice start:space_index)\n",
    "```"
   ]
  },
  {
   "cell_type": "code",
   "execution_count": null,
   "metadata": {
    "collapsed": false
   },
   "outputs": [],
   "source": [
    "quote = \"they stumble who run fast\"\n",
    "\n"
   ]
  },
  {
   "cell_type": "markdown",
   "metadata": {},
   "source": [
    "[Terms of use](http://go.microsoft.com/fwlink/?LinkID=206977) &nbsp; [Privacy & cookies](https://go.microsoft.com/fwlink/?LinkId=521839) &nbsp; © 2017 Microsoft"
   ]
  }
 ],
 "metadata": {
  "anaconda-cloud": {},
  "kernelspec": {
   "display_name": "Python 3",
   "language": "python",
   "name": "python3"
  },
  "language_info": {
   "codemirror_mode": {
    "name": "ipython",
    "version": 3
   },
   "file_extension": ".py",
   "mimetype": "text/x-python",
   "name": "python",
   "nbconvert_exporter": "python",
   "pygments_lexer": "ipython3",
   "version": "3.5.1"
  }
 },
 "nbformat": 4,
 "nbformat_minor": 1
}
