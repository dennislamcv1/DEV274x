{
 "cells": [
  {
   "cell_type": "markdown",
   "metadata": {},
   "source": [
    "\n",
    "#  Module 4 Required Coding Activity  \n",
    "Introduction to Python (Unit 2) Fundamentals  \n",
    "\n",
    "**This Activity is intended to be completed in the jupyter notebook, Required_Code_MOD4_IntroPy.ipynb, and then pasted into the assessment page that follows.**   \n",
    " \n",
    "All course .ipynb Jupyter Notebooks are available from the project files download topic in Module 1, Section 1.\n",
    "\n",
    "This is an activity based on code similar to the Jupyter Notebook **`Practice_MOD04_IntroPy.ipynb`** which you may have completed.   \n",
    "\n",
    "| **Assignment Requirements** |  \n",
    "|:-------------------------------|  \n",
    "| **NOTE:** This program requires **`print`** output and code syntax used in module 4 such as variable assignment,  **`while`**, **`open`** keywords,  **`.split()`**, **`.readline()`**, **`.seek()`**, **`.write()`**, **`.close()`** methods  |  \n",
    "\n",
    "## The Weather\n",
    "#### Create a program that:  \n",
    "- imports and opens a file  \n",
    "- appends additional data to a file  \n",
    "- reads from the file to displays each city name and month average high temperature in Celsius  \n",
    "\n",
    "**Output:** The output should resemble the following\n",
    "```\n",
    "City of Beijing month ave: highest high is 30.9 Celsius\n",
    "City of Cairo month ave: highest high is 34.7 Celsius\n",
    "City of London month ave: highest high is 23.5 Celsius\n",
    "City of Nairobi month ave: highest high is 26.3 Celsius\n",
    "City of New York City month ave: highest high is 28.9 Celsius\n",
    "City of Sydney month ave: highest high is 26.5 Celsius\n",
    "City of Tokyo month ave: highest high is 30.8 Celsius\n",
    "City of Rio De Janeiro month ave: highest high is 30.0 Celsius\n",
    "```  \n",
    "all of the above text output is generated from the file  \n",
    "the only strings are *hard coded*:  \n",
    "- \"is\"  \n",
    "- \"of\"  \n",
    "- \"Celsius\"  \n",
    "\n",
    "\n",
    "\n",
    "#### import the file into the Jupyter Notebook environment   \n",
    "- use `!curl` to download https://raw.githubusercontent.com/MicrosoftLearning/intropython/master/world_temp_mean.csv as `mean_temp.txt`  \n",
    "  \n",
    "\n",
    "```python\n",
    "# [ ] The Weather: import world_mean_team.csv as mean_temp.txt into the Jupyter notebook\n",
    "\n",
    "\n",
    "```  \n",
    "\n",
    "#### Add the weather for Rio  \n",
    "1. Open the file in append plus mode (**`'a+'`**)  \n",
    "2. Write a new line for Rio de Janeiro `\"Rio de Janeiro,Brazil,30.0,18.0\\n\"`  \n",
    "\n",
    "\n",
    "#### Grab the column headings  \n",
    "1. use .seek() to move the pointer to the beginning of the file  \n",
    "2. read the first line of text into a variable called: `headings`     \n",
    "3. convert `headings` to a list using **`.split(',')`** which splits on each comma  \n",
    "\n",
    "\n",
    "```python\n",
    "# [ ] The Weather: open file, read/print first line, convert line to list (splitting on comma)\n",
    "\n",
    "\n",
    "```\n",
    "\n",
    "#### Read the remaining lines from the file using a while loop\n",
    "  1. assign remaining lines to a **`city_temp`** variable  \n",
    "  2. convert the city_temp to a list using **`.split(',')`** for each **`.readline()`** in the loop  \n",
    "  3. print each city & the highest monthly average temperature   \n",
    "  4. close mean_temps\n",
    "\n",
    ">Tips & Hints:   \n",
    "- print **`headings`** to determine indexes to use for the final output (what is in headings[0], [1], [2]..?)  \n",
    "- the city_temp data follows the order of the headings (city_temp[0] is described by headings[0]) \n",
    "- The output should look like: **`\"month ave: highest high\" for Beijing is 30.9 Celsius`**  \n",
    "- convert `city_temp` to lists with `.split(',')`  \n",
    "\n",
    "\n",
    "```python\n",
    "# [ ] The Weather: use while loop to print city and highest monthly average temp in celsius\n",
    "\n",
    "\n",
    "```\n",
    "\n",
    "### Combine All Code into one cell, Copy and Submit on edX\n"
   ]
  },
  {
   "cell_type": "code",
   "execution_count": 5,
   "metadata": {},
   "outputs": [
    {
     "name": "stdout",
     "output_type": "stream",
     "text": [
      "City of Beijing month ave: highest high is 30.9 Celsius\n",
      "City of Cairo month ave: highest high is 34.7 Celsius\n",
      "City of London month ave: highest high is 23.5 Celsius\n",
      "City of Nairobi month ave: highest high is 26.3 Celsius\n",
      "City of New York City month ave: highest high is 28.9 Celsius\n",
      "City of Sydney month ave: highest high is 26.5 Celsius\n",
      "City of Tokyo month ave: highest high is 30.8 Celsius\n",
      "City of Rio de Janeiro month ave: highest high is 30.0 Celsius\n"
     ]
    },
    {
     "name": "stderr",
     "output_type": "stream",
     "text": [
      "  % Total    % Received % Xferd  Average Speed   Time    Time     Time  Current\n",
      "                                 Dload  Upload   Total   Spent    Left  Speed\n",
      "\n",
      "  0     0    0     0    0     0      0      0 --:--:-- --:--:-- --:--:--     0\n",
      "  0     0    0     0    0     0      0      0 --:--:-- --:--:-- --:--:--     0\n",
      "100   222  100   222    0     0    330      0 --:--:-- --:--:-- --:--:--   330\n"
     ]
    }
   ],
   "source": [
    "# [] create The Weather\n",
    "get_ipython().system(u' curl https://raw.githubusercontent.com/MicrosoftLearning/intropython/master/world_temp_mean.csv -o mean_temp.txt')\n",
    "\n",
    "mean_temps = open('mean_temp.txt','a+')\n",
    "mean_temps.write(\"Rio de Janeiro,Brazil,30.0,18.0\\n\")\n",
    "mean_temps.seek(0)\n",
    "headings = mean_temps.readline()\n",
    "headings = headings.split(',')\n",
    "# print(headings[0]) will print only the word city\n",
    "# heading = ['city', 'country', 'month ave: highest high', 'month ave: lowest low\\n']\n",
    "\n",
    "city_temp = mean_temps.readline()\n",
    "while city_temp:\n",
    "    city_temp = city_temp.split(',')\n",
    "    # The output should look like: City of Beijing month ave: highest high is 30.9 Celsius\n",
    "    # the only strings are hard coded: \"is\", \"of\", and \"Celsius\". Rest of the text output are generated from the file.\n",
    "    print(headings[0].title(),\"of\",city_temp[0],headings[2],\"is\",city_temp[2],\"Celsius\")\n",
    "    city_temp = mean_temps.readline()\n",
    "    \n",
    "mean_temps.close()\n"
   ]
  },
  {
   "cell_type": "code",
   "execution_count": 3,
   "metadata": {},
   "outputs": [],
   "source": []
  },
  {
   "cell_type": "markdown",
   "metadata": {},
   "source": [
    "### Need assignment tips and clarification? \n",
    "See the video on the \"End of Module coding assignment > Module 4 Required Code Description\" course page on [edX](https://courses.edx.org/courses/course-v1:Microsoft+DEV274x+4T2017/course)    \n",
    "\n",
    "# Important:  [How to submit code by pasting](https://courses.edx.org/courses/course-v1:Microsoft+DEV274x+2T2017/wiki/Microsoft.DEV274x.2T2017/paste-code-end-module-coding-assignments/)\n"
   ]
  },
  {
   "cell_type": "markdown",
   "metadata": {},
   "source": [
    "[Terms of use](http://go.microsoft.com/fwlink/?LinkID=206977) &nbsp; [Privacy & cookies](https://go.microsoft.com/fwlink/?LinkId=521839) &nbsp; © 2017 Microsoft"
   ]
  }
 ],
 "metadata": {
  "anaconda-cloud": {},
  "kernelspec": {
   "display_name": "Python 3",
   "language": "python",
   "name": "python3"
  },
  "language_info": {
   "codemirror_mode": {
    "name": "ipython",
    "version": 3
   },
   "file_extension": ".py",
   "mimetype": "text/x-python",
   "name": "python",
   "nbconvert_exporter": "python",
   "pygments_lexer": "ipython3",
   "version": "3.6.7"
  }
 },
 "nbformat": 4,
 "nbformat_minor": 1
}
